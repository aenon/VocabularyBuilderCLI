{
 "cells": [
  {
   "cell_type": "code",
   "execution_count": 1,
   "metadata": {
    "collapsed": true
   },
   "outputs": [],
   "source": [
    "import codecs\n",
    "from string import Template\n",
    "import re"
   ]
  },
  {
   "cell_type": "code",
   "execution_count": 2,
   "metadata": {
    "collapsed": true
   },
   "outputs": [],
   "source": [
    "alphabet = u'qwertyuiopasdfghjklzxcvbnmQWERTYUIOPASDFGHJKLZXCVBNM'\n",
    "alphabet2 = u'qwertyuiopasdfghjklzxcvbnmQWERTYUIOPASDFGHJKLZXCVBNM '"
   ]
  },
  {
   "cell_type": "code",
   "execution_count": 3,
   "metadata": {
    "collapsed": true
   },
   "outputs": [],
   "source": [
    "def split_words(line):\n",
    "    res = line.split(u\",\")\n",
    "    seps = [u\";\", u\"；\", u\"，\"]\n",
    "    for sep in seps:\n",
    "        res_bak = res\n",
    "        res = []\n",
    "        for each in res_bak:\n",
    "            res.extend(each.split(sep))\n",
    "    return res"
   ]
  },
  {
   "cell_type": "code",
   "execution_count": 4,
   "metadata": {
    "collapsed": true
   },
   "outputs": [],
   "source": [
    "def MeaningDict(tmp):\n",
    "\n",
    "    self = {}\n",
    "    lines = tmp.split(\"\\n\")\n",
    "    self[\"syno\"] = []\n",
    "    self[\"anto\"] = []\n",
    "    self[\"homo\"] = []\n",
    "    for each in lines:\n",
    "        line = each.strip()\n",
    "        if len(line) == 0:\n",
    "            continue\n",
    "        if line.find(u\"[MEANING\") >= 0:\n",
    "            con = re.sub(u\"[.*?]\", \"\", line)\n",
    "            self[\"explanation\"] = con.strip()\n",
    "            continue\n",
    "        if line.find(u\"[DERIVATIVES\") >= 0:\n",
    "            self[\"explanation\"] = line.strip()\n",
    "            continue\n",
    "        if line.find(u\"[EXAMPLE\") >= 0:\n",
    "            con = re.sub(u\"[.*?]\", \"\", line)\n",
    "            self[\"example\"] = con.strip()\n",
    "            continue\n",
    "        if line.find(u\"[SYNONYMS\") >= 0:\n",
    "            con = re.sub(u\"[.*?]\", \"\", line)\n",
    "            words = split_words(con)\n",
    "            for ew in words:\n",
    "                rew = \"\"\n",
    "                for ec in ew:\n",
    "                    if alphabet2.find(ec):\n",
    "                        rew += ec\n",
    "                if len(rew.strip()):\n",
    "                    self[\"syno\"].append(rew.strip())\n",
    "            continue\n",
    "        if line.find(u\"[SYNONYMS\") >= 0:\n",
    "            con = re.sub(u\"[.*?]\", \"\", line)\n",
    "            words = split_words(con)\n",
    "            for ew in words:\n",
    "                rew = \"\"\n",
    "                for ec in ew:\n",
    "                    if alphabet2.find(ec):\n",
    "                        rew += ec\n",
    "                if len(rew.strip()):\n",
    "                    self[\"homo\"].append(rew.strip())\n",
    "            continue\n",
    "        if line.find(u\"[ANTONYM\") >= 0:\n",
    "            con = re.sub(u\"[.*?]\", \"\", line)\n",
    "            words = split_words(con)\n",
    "            for ew in words:\n",
    "                rew = \"\"\n",
    "                for ec in ew:\n",
    "                    if alphabet2.find(ec):\n",
    "                        rew += ec\n",
    "                if len(rew.strip()):\n",
    "                    self[\"anto\"].append(rew.strip())\n",
    "            continue\n",
    "        print line\n",
    "\n",
    "    return self"
   ]
  },
  {
   "cell_type": "code",
   "execution_count": 6,
   "metadata": {
    "collapsed": true
   },
   "outputs": [],
   "source": [
    "def WordObj(w, desc, cid, uid, gid):\n",
    "\n",
    "    self = {}\n",
    "    w = re.sub(u\"\\\\[.*?\\\\]\", \"\", w)\n",
    "    self[\"word\"] = w.strip()\n",
    "    self[\"desc\"] = desc[:].strip()\n",
    "    lines = desc.split('\\n')\n",
    "    self[\"meanings\"] = []\n",
    "    self[\"derv\"] = []\n",
    "    self[\"cid\"] = cid\n",
    "    self[\"uid\"] = uid\n",
    "    self[\"gid\"] = gid\n",
    "\n",
    "    tmp = \"\"\n",
    "    is_derv = False\n",
    "    for each in lines:\n",
    "        line = each.strip()\n",
    "        if len(line) == 0:\n",
    "            continue\n",
    "        if line.find(u\"[MEANING\") >= 0 or line.find(u\"[DERIVATIVES\") >= 0:\n",
    "            if len(tmp):\n",
    "                if not is_derv:\n",
    "                    self[\"meanings\"].append(MeaningDict(tmp))\n",
    "                else:\n",
    "                    self[\"derv\"].append(MeaningDict(tmp))\n",
    "            if line.find(u\"[DERIVATIVES\") >= 0:\n",
    "                is_derv = True\n",
    "            else:\n",
    "                is_derv = False\n",
    "            tmp = line[:] + \"\\n\"\n",
    "        else:\n",
    "            tmp += line[:] + \"\\n\"\n",
    "    if len(tmp):\n",
    "        if not is_derv:\n",
    "            self[\"meanings\"].append(MeaningDict(tmp))\n",
    "        else:\n",
    "            self[\"derv\"].append(MeaningDict(tmp))\n",
    "    return self"
   ]
  },
  {
   "cell_type": "code",
   "execution_count": 7,
   "metadata": {
    "collapsed": true
   },
   "outputs": [],
   "source": [
    "f = codecs.open(\"g3000.txt\", \"r\", \"utf-8\")\n",
    "txt = f.read()\n",
    "f.close()"
   ]
  },
  {
   "cell_type": "code",
   "execution_count": 10,
   "metadata": {},
   "outputs": [],
   "source": [
    "lines = txt.split('\\n')"
   ]
  },
  {
   "cell_type": "code",
   "execution_count": 12,
   "metadata": {
    "collapsed": true
   },
   "outputs": [],
   "source": [
    "list_id = 0\n",
    "unit_id = 0\n",
    "word_id = 1\n",
    "g_word_id = 0\n",
    "w = \"\"\n",
    "desc = \"\"\n",
    "tar = []\n",
    "storage = []"
   ]
  },
  {
   "cell_type": "code",
   "execution_count": null,
   "metadata": {
    "collapsed": true
   },
   "outputs": [],
   "source": []
  },
  {
   "cell_type": "code",
   "execution_count": 13,
   "metadata": {},
   "outputs": [
    {
     "name": "stdout",
     "output_type": "stream",
     "text": [
      "(31, 8, 6)\n",
      "3072\n"
     ]
    }
   ],
   "source": [
    "\n",
    "\n",
    "for i in range(len(lines)):\n",
    "    line = lines[i].strip()\n",
    "\n",
    "    if len(line) == 0:\n",
    "        continue\n",
    "\n",
    "    if alphabet.find(line[0]) >= 0:\n",
    "\n",
    "        # List\n",
    "        if line.find(u\"List\") == 0:\n",
    "            if w:\n",
    "                word_id += 1\n",
    "                storage.append((w, desc, list_id, unit_id, word_id))\n",
    "                g_word_id += 1\n",
    "                w = \"\"\n",
    "                desc = \"\"\n",
    "            list_id += 1\n",
    "            unit_id = 0\n",
    "            word_id = 1\n",
    "            if (list_id >= 28):\n",
    "                tar.append(line)\n",
    "            continue\n",
    "\n",
    "        # Unit\n",
    "        if line.find(u\"Unit\") == 0:\n",
    "            if w:\n",
    "                word_id += 1\n",
    "                storage.append((w, desc, list_id, unit_id, word_id))\n",
    "                g_word_id += 1\n",
    "                w = \"\"\n",
    "                desc = \"\"\n",
    "\n",
    "            unit_id += 1\n",
    "            word_id = 1\n",
    "            if (list_id >= 28):\n",
    "                tar.append(line)\n",
    "            continue\n",
    "\n",
    "        # Word\n",
    "        tar.append(\"zxk\")\n",
    "        if w:\n",
    "            word_id += 1\n",
    "            storage.append((w, desc, list_id, unit_id, word_id))\n",
    "            g_word_id += 1\n",
    "        w = line[:]\n",
    "        desc = \"\"\n",
    "\n",
    "    else:\n",
    "\n",
    "        desc += line[:] + '\\n'\n",
    "\n",
    "word_id += 1\n",
    "storage.append((w, desc, list_id, unit_id, word_id))\n",
    "g_word_id += 1\n",
    "print (list_id, unit_id, word_id)\n",
    "print g_word_id\n",
    "\n",
    "# make pool\n",
    "\n",
    "import json\n",
    "\n",
    "tot = []\n",
    "\n",
    "import codecs\n",
    "\n",
    "for each in storage:\n",
    "    obj = WordObj(each[0], each[1], each[2], each[3], each[4] - 1)\n",
    "    tot.append(obj)\n",
    "\n",
    "f = codecs.open(\"g3000.json\", \"w\", \"utf-8\")\n",
    "json.dump(tot, f, ensure_ascii = False)\n",
    "f.close()"
   ]
  },
  {
   "cell_type": "code",
   "execution_count": null,
   "metadata": {
    "collapsed": true
   },
   "outputs": [],
   "source": []
  }
 ],
 "metadata": {
  "kernelspec": {
   "display_name": "Python [conda root]",
   "language": "python",
   "name": "conda-root-py"
  },
  "language_info": {
   "codemirror_mode": {
    "name": "ipython",
    "version": 2
   },
   "file_extension": ".py",
   "mimetype": "text/x-python",
   "name": "python",
   "nbconvert_exporter": "python",
   "pygments_lexer": "ipython2",
   "version": "2.7.13"
  }
 },
 "nbformat": 4,
 "nbformat_minor": 2
}
