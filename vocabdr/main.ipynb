{
 "cells": [
  {
   "cell_type": "markdown",
   "metadata": {},
   "source": [
    "# vocabdr\n",
    "Yet another vocabulary builder"
   ]
  },
  {
   "cell_type": "code",
   "execution_count": 1,
   "metadata": {
    "collapsed": true
   },
   "outputs": [],
   "source": [
    "import pandas as pd\n",
    "import sys\n",
    "import math\n",
    "# import urwid\n",
    "\n",
    "# import sys\n",
    "# #in case there are special characters in names\n",
    "# reload(sys)\n",
    "# sys.setdefaultencoding(\"utf-8\")"
   ]
  },
  {
   "cell_type": "code",
   "execution_count": 2,
   "metadata": {
    "collapsed": true
   },
   "outputs": [],
   "source": [
    "# if len(sys.argv) > 1:\n",
    "#     word_dict = sys.argv[1]\n",
    "# else:\n",
    "#     word_dict = \"barrons_333\""
   ]
  },
  {
   "cell_type": "code",
   "execution_count": 3,
   "metadata": {
    "collapsed": true
   },
   "outputs": [],
   "source": [
    "class color:\n",
    "    PURPLE = '\\033[95m'\n",
    "    CYAN = '\\033[96m'\n",
    "    DARKCYAN = '\\033[36m'\n",
    "    BLUE = '\\033[94m'\n",
    "    GREEN = '\\033[92m'\n",
    "    YELLOW = '\\033[93m'\n",
    "    RED = '\\033[91m'\n",
    "    BOLD = '\\033[1m'\n",
    "    UNDERLINE = '\\033[4m'\n",
    "    END = '\\033[0m'"
   ]
  },
  {
   "cell_type": "code",
   "execution_count": 9,
   "metadata": {
    "collapsed": true
   },
   "outputs": [],
   "source": [
    "def dict_read(word_dict):\n",
    "    df = pd.read_csv(\"../dict/\" + word_dict + \".csv\")\n",
    "    df['REVIEW'] = True\n",
    "    if not 'DESC' in df.columns:\n",
    "        df['DESC'] = df['MEANING']\n",
    "    return df"
   ]
  },
  {
   "cell_type": "code",
   "execution_count": 10,
   "metadata": {
    "collapsed": true
   },
   "outputs": [],
   "source": [
    "def dict_select():\n",
    "    print(\"Select one dictionary to study\")\n",
    "    print(\"\\t1. G3000\")\n",
    "    print(\"\\t2. Barron's 333\")\n",
    "    selection = raw_input(\"Dictionary number? [1]\").strip()\n",
    "    if selection.startswith(\"2\"):\n",
    "        print(\"Your choice is Barron's 333.\")\n",
    "        return \"barrons_333\"\n",
    "    else:\n",
    "        print(\"your choice is G3000.\")\n",
    "        return \"g3000\""
   ]
  },
  {
   "cell_type": "code",
   "execution_count": 11,
   "metadata": {
    "collapsed": true
   },
   "outputs": [],
   "source": [
    "def unit_select(df):\n",
    "    last_unit = int(math.ceil(len(df) / 25.0))\n",
    "    answer = raw_input(\"Which unit to learn? (1 ~ {}): \".format(str(last_unit))).strip()\n",
    "    if answer.isdigit():\n",
    "        if int(answer) in range(1, last_unit + 1):\n",
    "            return int(answer)\n",
    "    return 1"
   ]
  },
  {
   "cell_type": "code",
   "execution_count": 12,
   "metadata": {
    "collapsed": true
   },
   "outputs": [],
   "source": [
    "def unit_learn(df, unit):\n",
    "    print(\"Let's learn unit {}!\".format(unit))\n",
    "    df = df.iloc[25*(unit-1): 25*unit]\n",
    "    while len(df) > 0:\n",
    "        for index, row in df.iterrows():\n",
    "            word, meaning, desc = map(lambda x: x.strip(), \n",
    "                                      [row.WORD, row.MEANING, row.DESC])\n",
    "            if len(word) >= 4:\n",
    "                word_hint = word[0] + '␣' * (len(word) - 2) + word[-1]\n",
    "            else:\n",
    "                word_hint = word[0] + '␣' * (len(word) - 1)\n",
    "                \n",
    "            print(color.BOLD + word_hint + color.END)\n",
    "            print(meaning)\n",
    "            word_input = raw_input().lower().strip()\n",
    "            if word_input == \":q\":\n",
    "                print(\"Exiting...\\n\")\n",
    "                break\n",
    "            if word_input == word:\n",
    "                sys.stderr.write(\"\\x1b[2J\\x1b[H\")\n",
    "                print(color.DARKCYAN + color.BOLD + word + color.END)\n",
    "                print(desc)\n",
    "                df.at[index, 'REVIEW'] = False\n",
    "            else:\n",
    "                sys.stderr.write(\"\\x1b[2J\\x1b[H\")\n",
    "                print(color.RED + color.BOLD + word + color.END)\n",
    "                print(desc)\n",
    "            raw_input(\"Press enter to continue...\")\n",
    "            sys.stderr.write(\"\\x1b[2J\\x1b[H\")\n",
    "        df = df[df.REVIEW]          "
   ]
  },
  {
   "cell_type": "code",
   "execution_count": 13,
   "metadata": {},
   "outputs": [
    {
     "name": "stdout",
     "output_type": "stream",
     "text": [
      "Select one dictionary to study\n",
      "\t1. G3000\n",
      "\t2. Barron's 333\n",
      "Dictionary number? [1]\n",
      "your choice is G3000.\n",
      "Which unit to learn? (1 ~ 123): 2\n",
      "Let's learn unit 2!\n",
      "\u001b[1ma␣␣␣␣␣␣e\u001b[0m\n",
      "[MEANING 1]adj.难以理解的: difficult to comprehend : recondite\n",
      "\n"
     ]
    },
    {
     "name": "stderr",
     "output_type": "stream",
     "text": [
      "\u001b[2J\u001b[H"
     ]
    },
    {
     "name": "stdout",
     "output_type": "stream",
     "text": [
      "\u001b[91m\u001b[1mabstruse\u001b[0m\n",
      "[MEANING 1]adj.难以理解的: difficult to comprehend : recondite\n",
      "[EXAMPLE]the abstruse calculations 复杂深奥的计算\n",
      "[SYNONYMS]arcane, esoteric, hermetic (also hermetical), recondite\n",
      "[ANTONYM]accessible, patent, shallow, superficial 可了解的，肤浅的\n",
      "Press enter to continue...\n"
     ]
    },
    {
     "name": "stderr",
     "output_type": "stream",
     "text": [
      "\u001b[2J\u001b[H"
     ]
    },
    {
     "name": "stdout",
     "output_type": "stream",
     "text": [
      "\u001b[1ma␣␣␣␣d\u001b[0m\n",
      "[MEANING 1]adj.不合理的: ridiculously unreasonable, unsound, or incongruous\n",
      "\n"
     ]
    },
    {
     "name": "stderr",
     "output_type": "stream",
     "text": [
      "\u001b[2J\u001b[H"
     ]
    },
    {
     "name": "stdout",
     "output_type": "stream",
     "text": [
      "\u001b[91m\u001b[1mabsurd\u001b[0m\n",
      "[MEANING 1]adj.不合理的: ridiculously unreasonable, unsound, or incongruous\n",
      "[EXAMPLE]an absurd argument 无稽之谈\n",
      "[SYNONYMS]wild, bizarre, ludicrous, insane, nonsensical, preposterous, half-baked\n",
      "[ANTONYM]rational, sensible, realistic, reasonable 理性的，合理的\n",
      "Press enter to continue...\n"
     ]
    },
    {
     "name": "stderr",
     "output_type": "stream",
     "text": [
      "\u001b[2J\u001b[H"
     ]
    },
    {
     "name": "stdout",
     "output_type": "stream",
     "text": [
      "\u001b[1ma␣␣␣␣␣␣t\u001b[0m\n",
      "[MEANING 1]adj.大量的: marked by great plenty (as of resources)\n",
      "\n"
     ]
    },
    {
     "name": "stderr",
     "output_type": "stream",
     "text": [
      "\u001b[2J\u001b[H"
     ]
    },
    {
     "name": "stdout",
     "output_type": "stream",
     "text": [
      "\u001b[91m\u001b[1mabundant\u001b[0m\n",
      "[MEANING 1]adj.大量的: marked by great plenty (as of resources)\n",
      "[EXAMPLE]a abundant land 一片富饶的土地\n",
      "[SYNONYMS]ample, cornucopian, teeming, replete, abounding\n",
      "[ANTONYM]infrequent, rare, uncommon, inadequate, scanty, scarce 稀少的，罕见的\n",
      "Press enter to continue...\n"
     ]
    },
    {
     "name": "stderr",
     "output_type": "stream",
     "text": [
      "\u001b[2J\u001b[H"
     ]
    },
    {
     "name": "stdout",
     "output_type": "stream",
     "text": [
      "\u001b[1ma␣␣␣e\u001b[0m\n",
      "[MEANING 1]v.辱骂抨击: language that condemns or vilifies usually unjustly, intemperately, and angrily\n",
      "[MEANING 2]v.不正当不合理使用: to put to a wrong or improper use;过分过量使用: to use excessively\n",
      "\n"
     ]
    },
    {
     "name": "stderr",
     "output_type": "stream",
     "text": [
      "\u001b[2J\u001b[H"
     ]
    },
    {
     "name": "stdout",
     "output_type": "stream",
     "text": [
      "\u001b[91m\u001b[1mabuse\u001b[0m\n",
      "[MEANING 1]v.辱骂抨击: language that condemns or vilifies usually unjustly, intemperately, and angrily\n",
      "[EXAMPLE]He alleged that he was verbally abused by his colleagues他声称受到了[SYNONYMS]事的言语攻击。\n",
      "[SYNONYMS]assail, bash, castigate, excoriate, lambaste\n",
      "[[DERIVATIVES]]abusive 辱骂的\n",
      "[MEANING 2]v.不正当不合理使用: to put to a wrong or improper use;过分过量使用: to use excessively\n",
      "[EXAMPLE]abuse a privilege 滥用特权；abuse alcohol 酗酒\n",
      "[SYNONYMS]misemploy, misuse\n",
      "Press enter to continue...\n"
     ]
    },
    {
     "name": "stderr",
     "output_type": "stream",
     "text": [
      "\u001b[2J\u001b[H"
     ]
    },
    {
     "name": "stdout",
     "output_type": "stream",
     "text": [
      "\u001b[1ma␣␣t\u001b[0m\n",
      "[MEANING 1]v.邻接，毗邻: to touch at one end or side; lie adjacent\n",
      "\n"
     ]
    },
    {
     "name": "stderr",
     "output_type": "stream",
     "text": [
      "\u001b[2J\u001b[H"
     ]
    },
    {
     "name": "stdout",
     "output_type": "stream",
     "text": [
      "\u001b[91m\u001b[1mabut\u001b[0m\n",
      "[MEANING 1]v.邻接，毗邻: to touch at one end or side; lie adjacent\n",
      "[EXAMPLE]Our land abuts a wildlife preserve 我们的土地靠SYNONYMS一片野生动物保护区。\n",
      "[SYNONYMS]skirt, verge on, border on, butt on, march with\n",
      "Press enter to continue...\n"
     ]
    },
    {
     "name": "stderr",
     "output_type": "stream",
     "text": [
      "\u001b[2J\u001b[H"
     ]
    },
    {
     "name": "stdout",
     "output_type": "stream",
     "text": [
      "\u001b[1ma␣␣␣␣␣l\u001b[0m\n",
      "[MEANING 1]adj.极低的或极可怜的: immeasurably low or wretched\n",
      "[MEANING 2]adj.(程度)很深的、极端的: immeasurably great\n",
      "\n"
     ]
    },
    {
     "name": "stderr",
     "output_type": "stream",
     "text": [
      "\u001b[2J\u001b[H"
     ]
    },
    {
     "name": "stdout",
     "output_type": "stream",
     "text": [
      "\u001b[91m\u001b[1mabysmal\u001b[0m\n",
      "[MEANING 1]adj.极低的或极可怜的: immeasurably low or wretched\n",
      "[EXAMPLE]abysmal living conditions 极可怜的生活条件\n",
      "[SYNONYMS] bottomless\n",
      "[ANTONYM] shallow shoal\n",
      "[MEANING 2]adj.(程度)很深的、极端的: immeasurably great\n",
      "[EXAMPLE]abysmal ignorance极端的无知；an abysmal cliff 深不见底的悬崖\n",
      "[SYNONYMS]profound\n",
      "[ANTONYM]skin-deep, superficial 肤浅的\n",
      "Press enter to continue...\n"
     ]
    },
    {
     "name": "stderr",
     "output_type": "stream",
     "text": [
      "\u001b[2J\u001b[H"
     ]
    },
    {
     "name": "stdout",
     "output_type": "stream",
     "text": [
      "\u001b[1ma␣␣␣␣e\u001b[0m\n",
      "[MEANING 1]v.赞成: to express approval or give consent\n",
      "[MEANING 2]v.就任，就职: to arrive at or come into an office or dignity:\n",
      "\n"
     ]
    },
    {
     "name": "stderr",
     "output_type": "stream",
     "text": [
      "\u001b[2J\u001b[H"
     ]
    },
    {
     "name": "stdout",
     "output_type": "stream",
     "text": [
      "\u001b[91m\u001b[1maccede\u001b[0m\n",
      "[MEANING 1]v.赞成: to express approval or give consent\n",
      "[EXAMPLE]acceded to their pleas[SYNONYMS]意了他们的请愿\n",
      "[SYNONYMS]acquiesce, assent, consent, subscribe, come round\n",
      "[ANTONYM]demur, dissent ANTONYM对\n",
      "[MEANING 2]v.就任，就职: to arrive at or come into an office or dignity:\n",
      "[EXAMPLE]accede to the throne 就任国王\n",
      "Press enter to continue...\n"
     ]
    },
    {
     "name": "stderr",
     "output_type": "stream",
     "text": [
      "\u001b[2J\u001b[H"
     ]
    },
    {
     "name": "stdout",
     "output_type": "stream",
     "text": [
      "\u001b[1ma␣␣␣␣␣␣␣␣e\u001b[0m\n",
      "[MEANING 1]v.加速: to cause to move faster\n",
      "[MEANING 2]v.使提前发生: to bring about at an earlier time\n",
      "[MEANING 3]v.变大，变多: to become greater in size, extent, volume, amount, or number\n",
      "\n"
     ]
    },
    {
     "name": "stderr",
     "output_type": "stream",
     "text": [
      "\u001b[2J\u001b[H"
     ]
    },
    {
     "name": "stdout",
     "output_type": "stream",
     "text": [
      "\u001b[91m\u001b[1maccelerate\u001b[0m\n",
      "[MEANING 1]v.加速: to cause to move faster\n",
      "[EXAMPLE]accelerate his steps 加快脚步\n",
      "[SYNONYMS]balloon, escalate, snowball, mushroom, proliferate, burgeon, build up\n",
      "[ANTONYM]retard 减速\n",
      "[MEANING 2]v.使提前发生: to bring about at an earlier time\n",
      "[EXAMPLE]accelerate their departure 提前离开\n",
      "[MEANING 3]v.变大，变多: to become greater in size, extent, volume, amount, or number\n",
      "[EXAMPLE]toy purchases accelerate dramatically during the Christmas season 玩具销售量在圣诞期间暴涨\n",
      "[SYNONYMS]accumulate, balloon, enlarge, escalate, mushroom, proliferate, snowball, roll up\n",
      "[ANTONYM]contract, decrease, diminish, dwindle, lessen, recede, wane\n",
      "Press enter to continue...\n"
     ]
    },
    {
     "name": "stderr",
     "output_type": "stream",
     "text": [
      "\u001b[2J\u001b[H"
     ]
    },
    {
     "name": "stdout",
     "output_type": "stream",
     "text": [
      "\u001b[1ma␣␣␣␣␣␣␣␣e\u001b[0m\n",
      "[MEANING 1]adj.可以到达的: situated within easy reach\n",
      "[MEANING 2]adj.可理解的: capable of being understood or appreciated\n",
      "[MEANING 3]adj.能够获得的: possible to get\n",
      "\n"
     ]
    },
    {
     "name": "stderr",
     "output_type": "stream",
     "text": [
      "\u001b[2J\u001b[H"
     ]
    },
    {
     "name": "stdout",
     "output_type": "stream",
     "text": [
      "\u001b[91m\u001b[1maccessible\u001b[0m\n",
      "[MEANING 1]adj.可以到达的: situated within easy reach\n",
      "[EXAMPLE]the town accessible by rail有铁路通达的城镇\n",
      "[SYNONYMS]handy, reachable\n",
      "[ANTONYM]inconvenient, unhandy, unreachable, untouchable\n",
      "[MEANING 2]adj.可理解的: capable of being understood or appreciated\n",
      "[EXAMPLE]The information ought to be made more accessible 信息应该更清晰易懂。\n",
      "[SYNONYMS]apprehensible, fathomable, legible, scrutable\n",
      "[ANTONYM]abstruse, incoherent, incomprehensible, inscrutable, insensible 深奥的\n",
      "[MEANING 3]adj.能够获得的: possible to get\n",
      "[EXAMPLE]The data is not currently accessible数据目前还不可用。\n",
      "[SYNONYMS]available, attainable, obtainable, procurable\n",
      "[ANTONYM]unattainable, unavailable, unobtainable\n",
      "Press enter to continue...\n"
     ]
    },
    {
     "name": "stderr",
     "output_type": "stream",
     "text": [
      "\u001b[2J\u001b[H"
     ]
    },
    {
     "name": "stdout",
     "output_type": "stream",
     "text": [
      "\u001b[1ma␣␣␣␣␣␣␣y\u001b[0m\n",
      "[MEANING 1]adj.辅助的，附属的: having a secondary, supplementary, or subordinate function\n",
      "[MEANING 2]n.帮凶: one associated with another in wrongdoing\n",
      "\n"
     ]
    },
    {
     "name": "stderr",
     "output_type": "stream",
     "text": [
      "\u001b[2J\u001b[H"
     ]
    },
    {
     "name": "stdout",
     "output_type": "stream",
     "text": [
      "\u001b[91m\u001b[1maccessory\u001b[0m\n",
      "[MEANING 1]adj.辅助的，附属的: having a secondary, supplementary, or subordinate function\n",
      "[EXAMPLE]accessory features such as call-waiting 类似呼叫等待的附属功能\n",
      "[SYNONYMS]accessory, peripheral, supplementary\n",
      "[ANTONYM]of primarily importance, chief, main, principal 主要的\n",
      "[MEANING 2]n.帮凶: one associated with another in wrongdoing\n",
      "[EXAMPLE]two accessories, the driver of the getaway car and the dishonest bank teller, were charged in the robbery case 两个帮凶，逃逸车辆的司机和不诚信的银行出纳，在抢劫案中被控告\n",
      "[SYNONYMS]abettor, confederate\n",
      "Press enter to continue...\n"
     ]
    },
    {
     "name": "stderr",
     "output_type": "stream",
     "text": [
      "\u001b[2J\u001b[H"
     ]
    },
    {
     "name": "stdout",
     "output_type": "stream",
     "text": [
      "\u001b[1ma␣␣␣␣␣␣␣␣l\u001b[0m\n",
      "[MEANING 1]adj.意外发生的，偶然的: occurring unexpectedly or by chance\n",
      "[MEANING 2]adj.附带的，不重要的: not being a vital part of or belonging to something\n",
      "\n"
     ]
    },
    {
     "name": "stderr",
     "output_type": "stream",
     "text": [
      "\u001b[2J\u001b[H"
     ]
    },
    {
     "name": "stdout",
     "output_type": "stream",
     "text": [
      "\u001b[91m\u001b[1maccidental\u001b[0m\n",
      "[MEANING 1]adj.意外发生的，偶然的: occurring unexpectedly or by chance\n",
      "[EXAMPLE]The discovery of gold was entirely accidental黄金的发现纯属偶然。\n",
      "[SYNONYMS]incidental, fortuitous, unintended, unintentional, unpremeditated, unwitting\n",
      "[ANTONYM]calculated, deliberate, intended, planned, premeditated 预先计划好的\n",
      "[MEANING 2]adj.附带的，不重要的: not being a vital part of or belonging to something\n",
      "[EXAMPLE]Its commercial value was accidental它的商业价值微乎其微。\n",
      "[SYNONYMS]alien, extraneous, external, adventitious\n",
      "[ANTONYM]inherent, innate, intrinsic内在的，固有的\n",
      "Press enter to continue...\n"
     ]
    },
    {
     "name": "stderr",
     "output_type": "stream",
     "text": [
      "\u001b[2J\u001b[H"
     ]
    },
    {
     "name": "stdout",
     "output_type": "stream",
     "text": [
      "\u001b[1ma␣␣␣␣␣␣␣e\u001b[0m\n",
      "[MEANING 1]vt.使适应: to change (something) so as to make it suitable for a new use or situation\n",
      "\n"
     ]
    },
    {
     "name": "stderr",
     "output_type": "stream",
     "text": [
      "\u001b[2J\u001b[H"
     ]
    },
    {
     "name": "stdout",
     "output_type": "stream",
     "text": [
      "\u001b[91m\u001b[1macclimate\u001b[0m\n",
      "[MEANING 1]vt.使适应: to change (something) so as to make it suitable for a new use or situation\n",
      "[EXAMPLE]acclimate oneself to a nine-to-five office job 适应早九晚五的坐班生活\n",
      "[SYNONYMS]adj.ust, accommodate, shape, suit, tailor\n",
      "[ANTONYM]make unfamiliar with 使不熟悉\n",
      "Press enter to continue...\n"
     ]
    },
    {
     "name": "stderr",
     "output_type": "stream",
     "text": [
      "\u001b[2J\u001b[H"
     ]
    },
    {
     "name": "stdout",
     "output_type": "stream",
     "text": [
      "\u001b[1ma␣␣␣␣␣␣e\u001b[0m\n",
      "[MEANING 1]n.[SYNONYMS]意，赞赏: an expression of approval\n",
      "[MEANING 2]v.赞扬: to praise or honor\n",
      "\n"
     ]
    },
    {
     "name": "stderr",
     "output_type": "stream",
     "text": [
      "\u001b[2J\u001b[H"
     ]
    },
    {
     "name": "stdout",
     "output_type": "stream",
     "text": [
      "\u001b[91m\u001b[1maccolade\u001b[0m\n",
      "[MEANING 1]n.[SYNONYMS]意，赞赏: an expression of approval\n",
      "[ANTONYM]disapprobation 不赞成\n",
      "[EXAMPLE]won virtually every accolade that the film world has to offer 赢得了电影界几乎一致的赞赏\n",
      "[SYNONYMS]applause, credit, distinction\n",
      "[MEANING 2]v.赞扬: to praise or honor\n",
      "[ANTONYM]excoriation, criticism, reprobation, castigation, cutting remark, derogation, reproof denigration, denunciation, swearword 批评，谴责\n",
      "Press enter to continue...\n"
     ]
    },
    {
     "name": "stderr",
     "output_type": "stream",
     "text": [
      "\u001b[2J\u001b[H"
     ]
    },
    {
     "name": "stdout",
     "output_type": "stream",
     "text": [
      "\u001b[1ma␣␣␣␣␣␣␣␣␣e\u001b[0m\n",
      "[MEANING 1]v.提供所需(EXAMPLE如服务、借贷、寄宿): to provide with something desired, needed, or suited (as a helpful service, a loan, or lodgings)\n",
      "[MEANING 2]v.改变以适应新情况、新场景: to change (something) so as to make it suitable for a new use or situation\n",
      "[MEANING 3]v.使和谐: to bring to a state free of conflicts, inconsistencies, or differences\n",
      "\n"
     ]
    },
    {
     "name": "stderr",
     "output_type": "stream",
     "text": [
      "\u001b[2J\u001b[H"
     ]
    },
    {
     "name": "stdout",
     "output_type": "stream",
     "text": [
      "\u001b[91m\u001b[1maccommodate\u001b[0m\n",
      "[MEANING 1]v.提供所需(EXAMPLE如服务、借贷、寄宿): to provide with something desired, needed, or suited (as a helpful service, a loan, or lodgings)\n",
      "[EXAMPLE]This cruise ship was big enough to accommodate over 600 people该游轮可以为超过 600 人提供食宿。\n",
      "[SYNONYMS]fit, hold, take\n",
      "[MEANING 2]v.改变以适应新情况、新场景: to change (something) so as to make it suitable for a new use or situation\n",
      "[EXAMPLE]accommodated the lectern to the height of the guest speaker 将讲台的高度调节得适合讲演者\n",
      "[SYNONYMS]acclimate, adjust, condition, conform, doctor, edit, shape, suit, tailor\n",
      "[MEANING 3]v.使和谐: to bring to a state free of conflicts, inconsistencies, or differences\n",
      "[EXAMPLE]The idea that the United States could harmoniously accommodate all was a fiction 认为美国能够和谐一切就是幻想。\n",
      "[SYNONYMS]attune, conciliate, conform, coordinate, reconcile\n",
      "[ANTONYM]disharmonize使不和谐\n",
      "Press enter to continue...\n"
     ]
    },
    {
     "name": "stderr",
     "output_type": "stream",
     "text": [
      "\u001b[2J\u001b[H"
     ]
    },
    {
     "name": "stdout",
     "output_type": "stream",
     "text": [
      "\u001b[1ma␣␣␣␣t\u001b[0m\n",
      "[MEANING 1]vt.以挑衅的形式搭讪: to approach and speak to often in a challenging or aggressive way\n",
      "\n"
     ]
    },
    {
     "name": "stderr",
     "output_type": "stream",
     "text": [
      "\u001b[2J\u001b[H"
     ]
    },
    {
     "name": "stdout",
     "output_type": "stream",
     "text": [
      "\u001b[91m\u001b[1maccost\u001b[0m\n",
      "[MEANING 1]vt.以挑衅的形式搭讪: to approach and speak to often in a challenging or aggressive way\n",
      "[EXAMPLE]accosted by three gang members 被三个混混搭讪\n",
      "Press enter to continue...\n"
     ]
    },
    {
     "name": "stderr",
     "output_type": "stream",
     "text": [
      "\u001b[2J\u001b[H"
     ]
    },
    {
     "name": "stdout",
     "output_type": "stream",
     "text": [
      "\u001b[1ma␣␣␣␣␣e\u001b[0m\n",
      "[MEANING 1]v.逐渐增长: to grow or increase gradually, as by addition\n",
      "\n"
     ]
    },
    {
     "name": "stderr",
     "output_type": "stream",
     "text": [
      "\u001b[2J\u001b[H"
     ]
    },
    {
     "name": "stdout",
     "output_type": "stream",
     "text": [
      "\u001b[91m\u001b[1maccrete\u001b[0m\n",
      "[MEANING 1]v.逐渐增长: to grow or increase gradually, as by addition\n",
      "[EXAMPLE]silt accreting at the mouth of the river泥沙在河口淤积\n",
      "[SYNONYMS]accumulate, build up, pile (up), stack (up)\n",
      "[ANTONYM]wear away, reduction in substance caused by erosion 侵蚀，减少\n",
      "[[DERIVATIVES]]accretion n慢慢增加\n",
      "Press enter to continue...\n"
     ]
    },
    {
     "name": "stderr",
     "output_type": "stream",
     "text": [
      "\u001b[2J\u001b[H"
     ]
    },
    {
     "name": "stdout",
     "output_type": "stream",
     "text": [
      "\u001b[1ma␣␣␣␣␣␣␣␣e\u001b[0m\n",
      "[MEANING 1]vi.逐渐增长: to increase gradually in quantity or number\n",
      "accumulate\n"
     ]
    },
    {
     "name": "stderr",
     "output_type": "stream",
     "text": [
      "\u001b[2J\u001b[H"
     ]
    },
    {
     "name": "stdout",
     "output_type": "stream",
     "text": [
      "\u001b[36m\u001b[1maccumulate\u001b[0m\n",
      "[MEANING 1]vi.逐渐增长: to increase gradually in quantity or number\n",
      "[EXAMPLE]accumulate a fortune 积攒了一笔财富\n",
      "[SYNONYMS]mount, swell, garner, snowball, build up, bulk (up)\n",
      "[ANTONYM]dissipate, diminish, dwindle, recede, wane 消散，减少\n"
     ]
    },
    {
     "ename": "KeyboardInterrupt",
     "evalue": "",
     "output_type": "error",
     "traceback": [
      "\u001b[0;31m---------------------------------------------------------------------------\u001b[0m",
      "\u001b[0;31mKeyboardInterrupt\u001b[0m                         Traceback (most recent call last)",
      "\u001b[0;32m<ipython-input-13-24162663d4c4>\u001b[0m in \u001b[0;36m<module>\u001b[0;34m()\u001b[0m\n\u001b[1;32m      5\u001b[0m \u001b[0;34m\u001b[0m\u001b[0m\n\u001b[1;32m      6\u001b[0m \u001b[0;32mif\u001b[0m \u001b[0m__name__\u001b[0m \u001b[0;34m==\u001b[0m \u001b[0;34m\"__main__\"\u001b[0m\u001b[0;34m:\u001b[0m\u001b[0;34m\u001b[0m\u001b[0m\n\u001b[0;32m----> 7\u001b[0;31m     \u001b[0mmain\u001b[0m\u001b[0;34m(\u001b[0m\u001b[0;34m)\u001b[0m\u001b[0;34m\u001b[0m\u001b[0m\n\u001b[0m",
      "\u001b[0;32m<ipython-input-13-24162663d4c4>\u001b[0m in \u001b[0;36mmain\u001b[0;34m()\u001b[0m\n\u001b[1;32m      2\u001b[0m     \u001b[0mdf\u001b[0m \u001b[0;34m=\u001b[0m \u001b[0mdict_read\u001b[0m\u001b[0;34m(\u001b[0m\u001b[0mdict_select\u001b[0m\u001b[0;34m(\u001b[0m\u001b[0;34m)\u001b[0m\u001b[0;34m)\u001b[0m\u001b[0;34m\u001b[0m\u001b[0m\n\u001b[1;32m      3\u001b[0m     \u001b[0munit\u001b[0m \u001b[0;34m=\u001b[0m \u001b[0munit_select\u001b[0m\u001b[0;34m(\u001b[0m\u001b[0mdf\u001b[0m\u001b[0;34m)\u001b[0m\u001b[0;34m\u001b[0m\u001b[0m\n\u001b[0;32m----> 4\u001b[0;31m     \u001b[0munit_learn\u001b[0m\u001b[0;34m(\u001b[0m\u001b[0mdf\u001b[0m\u001b[0;34m,\u001b[0m \u001b[0munit\u001b[0m\u001b[0;34m)\u001b[0m\u001b[0;34m\u001b[0m\u001b[0m\n\u001b[0m\u001b[1;32m      5\u001b[0m \u001b[0;34m\u001b[0m\u001b[0m\n\u001b[1;32m      6\u001b[0m \u001b[0;32mif\u001b[0m \u001b[0m__name__\u001b[0m \u001b[0;34m==\u001b[0m \u001b[0;34m\"__main__\"\u001b[0m\u001b[0;34m:\u001b[0m\u001b[0;34m\u001b[0m\u001b[0m\n",
      "\u001b[0;32m<ipython-input-12-9f0bd7739505>\u001b[0m in \u001b[0;36munit_learn\u001b[0;34m(df, unit)\u001b[0m\n\u001b[1;32m     26\u001b[0m                 \u001b[0;32mprint\u001b[0m\u001b[0;34m(\u001b[0m\u001b[0mcolor\u001b[0m\u001b[0;34m.\u001b[0m\u001b[0mRED\u001b[0m \u001b[0;34m+\u001b[0m \u001b[0mcolor\u001b[0m\u001b[0;34m.\u001b[0m\u001b[0mBOLD\u001b[0m \u001b[0;34m+\u001b[0m \u001b[0mword\u001b[0m \u001b[0;34m+\u001b[0m \u001b[0mcolor\u001b[0m\u001b[0;34m.\u001b[0m\u001b[0mEND\u001b[0m\u001b[0;34m)\u001b[0m\u001b[0;34m\u001b[0m\u001b[0m\n\u001b[1;32m     27\u001b[0m                 \u001b[0;32mprint\u001b[0m\u001b[0;34m(\u001b[0m\u001b[0mdesc\u001b[0m\u001b[0;34m)\u001b[0m\u001b[0;34m\u001b[0m\u001b[0m\n\u001b[0;32m---> 28\u001b[0;31m             \u001b[0mraw_input\u001b[0m\u001b[0;34m(\u001b[0m\u001b[0;34m\"Press enter to continue...\"\u001b[0m\u001b[0;34m)\u001b[0m\u001b[0;34m\u001b[0m\u001b[0m\n\u001b[0m\u001b[1;32m     29\u001b[0m             \u001b[0msys\u001b[0m\u001b[0;34m.\u001b[0m\u001b[0mstderr\u001b[0m\u001b[0;34m.\u001b[0m\u001b[0mwrite\u001b[0m\u001b[0;34m(\u001b[0m\u001b[0;34m\"\\x1b[2J\\x1b[H\"\u001b[0m\u001b[0;34m)\u001b[0m\u001b[0;34m\u001b[0m\u001b[0m\n\u001b[1;32m     30\u001b[0m         \u001b[0mdf\u001b[0m \u001b[0;34m=\u001b[0m \u001b[0mdf\u001b[0m\u001b[0;34m[\u001b[0m\u001b[0mdf\u001b[0m\u001b[0;34m.\u001b[0m\u001b[0mREVIEW\u001b[0m\u001b[0;34m]\u001b[0m\u001b[0;34m\u001b[0m\u001b[0m\n",
      "\u001b[0;32m/home/ubuntu/miniconda2/lib/python2.7/site-packages/ipykernel/kernelbase.pyc\u001b[0m in \u001b[0;36mraw_input\u001b[0;34m(self, prompt)\u001b[0m\n\u001b[1;32m    703\u001b[0m             \u001b[0mself\u001b[0m\u001b[0;34m.\u001b[0m\u001b[0m_parent_ident\u001b[0m\u001b[0;34m,\u001b[0m\u001b[0;34m\u001b[0m\u001b[0m\n\u001b[1;32m    704\u001b[0m             \u001b[0mself\u001b[0m\u001b[0;34m.\u001b[0m\u001b[0m_parent_header\u001b[0m\u001b[0;34m,\u001b[0m\u001b[0;34m\u001b[0m\u001b[0m\n\u001b[0;32m--> 705\u001b[0;31m             \u001b[0mpassword\u001b[0m\u001b[0;34m=\u001b[0m\u001b[0mFalse\u001b[0m\u001b[0;34m,\u001b[0m\u001b[0;34m\u001b[0m\u001b[0m\n\u001b[0m\u001b[1;32m    706\u001b[0m         )\n\u001b[1;32m    707\u001b[0m \u001b[0;34m\u001b[0m\u001b[0m\n",
      "\u001b[0;32m/home/ubuntu/miniconda2/lib/python2.7/site-packages/ipykernel/kernelbase.pyc\u001b[0m in \u001b[0;36m_input_request\u001b[0;34m(self, prompt, ident, parent, password)\u001b[0m\n\u001b[1;32m    733\u001b[0m             \u001b[0;32mexcept\u001b[0m \u001b[0mKeyboardInterrupt\u001b[0m\u001b[0;34m:\u001b[0m\u001b[0;34m\u001b[0m\u001b[0m\n\u001b[1;32m    734\u001b[0m                 \u001b[0;31m# re-raise KeyboardInterrupt, to truncate traceback\u001b[0m\u001b[0;34m\u001b[0m\u001b[0;34m\u001b[0m\u001b[0m\n\u001b[0;32m--> 735\u001b[0;31m                 \u001b[0;32mraise\u001b[0m \u001b[0mKeyboardInterrupt\u001b[0m\u001b[0;34m\u001b[0m\u001b[0m\n\u001b[0m\u001b[1;32m    736\u001b[0m             \u001b[0;32melse\u001b[0m\u001b[0;34m:\u001b[0m\u001b[0;34m\u001b[0m\u001b[0m\n\u001b[1;32m    737\u001b[0m                 \u001b[0;32mbreak\u001b[0m\u001b[0;34m\u001b[0m\u001b[0m\n",
      "\u001b[0;31mKeyboardInterrupt\u001b[0m: "
     ]
    }
   ],
   "source": [
    "def main():\n",
    "    df = dict_read(dict_select())\n",
    "    unit = unit_select(df)\n",
    "    unit_learn(df, unit)\n",
    "\n",
    "if __name__ == \"__main__\":\n",
    "    main()"
   ]
  },
  {
   "cell_type": "code",
   "execution_count": null,
   "metadata": {
    "collapsed": true
   },
   "outputs": [],
   "source": []
  }
 ],
 "metadata": {
  "kernelspec": {
   "display_name": "Python 2",
   "language": "python",
   "name": "python2"
  },
  "language_info": {
   "codemirror_mode": {
    "name": "ipython",
    "version": 2
   },
   "file_extension": ".py",
   "mimetype": "text/x-python",
   "name": "python",
   "nbconvert_exporter": "python",
   "pygments_lexer": "ipython2",
   "version": "2.7.13"
  }
 },
 "nbformat": 4,
 "nbformat_minor": 2
}
