{
 "cells": [
  {
   "cell_type": "code",
   "execution_count": 78,
   "metadata": {
    "collapsed": true
   },
   "outputs": [],
   "source": [
    "import pandas as pd\n",
    "import sys\n",
    "import math\n",
    "# import urwid\n",
    "\n",
    "# import sys\n",
    "# #in case there are special characters in names\n",
    "# reload(sys)\n",
    "# sys.setdefaultencoding(\"utf-8\")"
   ]
  },
  {
   "cell_type": "code",
   "execution_count": 37,
   "metadata": {
    "collapsed": true
   },
   "outputs": [],
   "source": [
    "# if len(sys.argv) > 1:\n",
    "#     word_dict = sys.argv[1]\n",
    "# else:\n",
    "#     word_dict = \"barrons_333\""
   ]
  },
  {
   "cell_type": "code",
   "execution_count": 42,
   "metadata": {
    "collapsed": true
   },
   "outputs": [],
   "source": [
    "class color:\n",
    "    PURPLE = '\\033[95m'\n",
    "    CYAN = '\\033[96m'\n",
    "    DARKCYAN = '\\033[36m'\n",
    "    BLUE = '\\033[94m'\n",
    "    GREEN = '\\033[92m'\n",
    "    YELLOW = '\\033[93m'\n",
    "    RED = '\\033[91m'\n",
    "    BOLD = '\\033[1m'\n",
    "    UNDERLINE = '\\033[4m'\n",
    "    END = '\\033[0m'"
   ]
  },
  {
   "cell_type": "code",
   "execution_count": 115,
   "metadata": {
    "collapsed": true
   },
   "outputs": [],
   "source": [
    "def dict_read(word_dict):\n",
    "    df = pd.read_csv(\"../dict/\" + word_dict + \".csv\")\n",
    "    df['REVIEW'] = True\n",
    "    return df"
   ]
  },
  {
   "cell_type": "code",
   "execution_count": 116,
   "metadata": {
    "collapsed": true
   },
   "outputs": [],
   "source": [
    "def dict_select():\n",
    "    print(\"Select one dictionary to study\")\n",
    "    print(\"\\t1. G3000\")\n",
    "    print(\"\\t2. Barron's 333\")\n",
    "    selection = raw_input(\"Dictionary number? [1]\").strip()\n",
    "    if selection.startswith(\"2\"):\n",
    "        print(\"Your choice is Barron's 333.\")\n",
    "        return \"barrons_333\"\n",
    "    else:\n",
    "        print(\"your choice is G3000.\")\n",
    "        return \"g3000\""
   ]
  },
  {
   "cell_type": "code",
   "execution_count": 117,
   "metadata": {
    "collapsed": true
   },
   "outputs": [],
   "source": [
    "def unit_select(df):\n",
    "    last_unit = int(math.ceil(len(df) / 25.0))\n",
    "    answer = raw_input(\"Which unit to learn? (1 ~ {}): \".format(str(last_unit))).strip()\n",
    "    if answer.isdigit():\n",
    "        if int(answer) in range(1, last_unit + 1):\n",
    "            return int(answer)\n",
    "    return 1"
   ]
  },
  {
   "cell_type": "code",
   "execution_count": 156,
   "metadata": {
    "collapsed": true
   },
   "outputs": [],
   "source": [
    "def unit_learn(df, unit):\n",
    "    print(\"Let's learn unit {}!\".format(unit))\n",
    "    df = df.iloc[25*(unit-1): 25*unit]\n",
    "    while len(df) > 0:\n",
    "        for index, row in df.iterrows():\n",
    "            word, meaning, desc = map(lambda x: x.strip(), \n",
    "                                      [row.WORD, row.MEANING, row.DESC])\n",
    "            if len(word) >= 4:\n",
    "                word_hint = word[0] + '␣' * (len(word) - 2) + word[-1]\n",
    "            else:\n",
    "                word_hint = word[0] + '␣' * (len(word) - 1)\n",
    "                \n",
    "            print(color.BOLD + word_hint + color.END)\n",
    "            print(meaning)\n",
    "            word_input = raw_input().lower().strip()\n",
    "            if word_input == \":q\":\n",
    "                print(\"Exiting...\\n\")\n",
    "                break\n",
    "            if word_input == word:\n",
    "                sys.stderr.write(\"\\x1b[2J\\x1b[H\")\n",
    "                print(color.DARKCYAN + color.BOLD + word + color.END)\n",
    "                print(desc)\n",
    "                df.at[index, 'REVIEW'] = False\n",
    "            else:\n",
    "                sys.stderr.write(\"\\x1b[2J\\x1b[H\")\n",
    "                print(color.RED + color.BOLD + word + color.END)\n",
    "                print(desc)\n",
    "            raw_input(\"Press enter to continue...\")\n",
    "            sys.stderr.write(\"\\x1b[2J\\x1b[H\")\n",
    "        df = df[df.REVIEW]          "
   ]
  },
  {
   "cell_type": "code",
   "execution_count": null,
   "metadata": {
    "collapsed": true
   },
   "outputs": [],
   "source": [
    "def main():\n",
    "    df = dict_read(dict_select())\n",
    "    unit = unit_select(df)\n",
    "    unit_learn(df, unit)\n",
    "\n",
    "if __name__ == \"__main__\":\n",
    "    main()"
   ]
  }
 ],
 "metadata": {
  "kernelspec": {
   "display_name": "Python 2",
   "language": "python",
   "name": "python2"
  },
  "language_info": {
   "codemirror_mode": {
    "name": "ipython",
    "version": 2
   },
   "file_extension": ".py",
   "mimetype": "text/x-python",
   "name": "python",
   "nbconvert_exporter": "python",
   "pygments_lexer": "ipython2",
   "version": "2.7.13"
  }
 },
 "nbformat": 4,
 "nbformat_minor": 2
}
