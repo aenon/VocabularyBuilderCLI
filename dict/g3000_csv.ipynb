{
 "cells": [
  {
   "cell_type": "code",
   "execution_count": null,
   "metadata": {
    "collapsed": true
   },
   "outputs": [],
   "source": [
    "import pandas as pd"
   ]
  },
  {
   "cell_type": "code",
   "execution_count": null,
   "metadata": {
    "collapsed": true
   },
   "outputs": [],
   "source": [
    "df_g3000 = pd.read_json('g3000.json')\n",
    "df_g3000.rename(columns = {'word': 'WORD'}, \n",
    "                inplace=True)\n",
    "df_g3000['MEANING'] = df_g3000.desc.apply(lambda desc: '\\n'.join([x for x in desc.split('\\n') if x.upper().startswith('[MEANING')]))\n",
    "df_g3000[['WORD', 'MEANING']].to_csv('g3000.csv', index=0)"
   ]
  }
 ],
 "metadata": {
  "kernelspec": {
   "display_name": "Python 2",
   "language": "python",
   "name": "python2"
  },
  "language_info": {
   "codemirror_mode": {
    "name": "ipython",
    "version": 2
   },
   "file_extension": ".py",
   "mimetype": "text/x-python",
   "name": "python",
   "nbconvert_exporter": "python",
   "pygments_lexer": "ipython2",
   "version": "2.7.13"
  }
 },
 "nbformat": 4,
 "nbformat_minor": 2
}
