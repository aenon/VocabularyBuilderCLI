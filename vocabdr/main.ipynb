{
 "cells": [
  {
   "cell_type": "markdown",
   "metadata": {},
   "source": [
    "# vocabdr\n",
    "Yet another vocabulary builder"
   ]
  },
  {
   "cell_type": "code",
   "execution_count": 1,
   "metadata": {
    "collapsed": true
   },
   "outputs": [],
   "source": [
    "import pandas as pd\n",
    "import sys\n",
    "import math\n",
    "# import urwid\n",
    "\n",
    "# import sys\n",
    "# #in case there are special characters in names\n",
    "# reload(sys)\n",
    "# sys.setdefaultencoding(\"utf-8\")"
   ]
  },
  {
   "cell_type": "code",
   "execution_count": 2,
   "metadata": {
    "collapsed": true
   },
   "outputs": [],
   "source": [
    "# if len(sys.argv) > 1:\n",
    "#     word_dict = sys.argv[1]\n",
    "# else:\n",
    "#     word_dict = \"barrons_333\""
   ]
  },
  {
   "cell_type": "code",
   "execution_count": 3,
   "metadata": {
    "collapsed": true
   },
   "outputs": [],
   "source": [
    "class color:\n",
    "    PURPLE = '\\033[95m'\n",
    "    CYAN = '\\033[96m'\n",
    "    DARKCYAN = '\\033[36m'\n",
    "    BLUE = '\\033[94m'\n",
    "    GREEN = '\\033[92m'\n",
    "    YELLOW = '\\033[93m'\n",
    "    RED = '\\033[91m'\n",
    "    BOLD = '\\033[1m'\n",
    "    UNDERLINE = '\\033[4m'\n",
    "    END = '\\033[0m'"
   ]
  },
  {
   "cell_type": "code",
   "execution_count": 4,
   "metadata": {
    "collapsed": true
   },
   "outputs": [],
   "source": [
    "def dict_read(word_dict):\n",
    "    df = pd.read_csv(\"../dict/\" + word_dict + \".csv\")\n",
    "    df['REVIEW'] = True\n",
    "    if not 'DESC' in df.columns:\n",
    "        df['DESC'] = df['MEANING']\n",
    "    return df"
   ]
  },
  {
   "cell_type": "code",
   "execution_count": 5,
   "metadata": {
    "collapsed": true
   },
   "outputs": [],
   "source": [
    "def dict_select():\n",
    "    print(\"Select one dictionary to study\")\n",
    "    print(\"\\t1. G3000 Random\")\n",
    "    print(\"\\t2. G3000\")\n",
    "    print(\"\\t3. Barron's 333\")\n",
    "    selection = raw_input(\"Dictionary number? [1]\").strip()\n",
    "    if selection.startswith(\"2\"):\n",
    "        print(\"Your choice is G3000.\")\n",
    "        return \"g3000\"\n",
    "    if selection.startswith(\"3\"):\n",
    "        print(\"Your choice is Barron's 333.\")\n",
    "        return \"barrons_333\"\n",
    "    print(\"your choice is G3000 Random.\")\n",
    "    return \"g3000_random\""
   ]
  },
  {
   "cell_type": "code",
   "execution_count": 6,
   "metadata": {
    "collapsed": true
   },
   "outputs": [],
   "source": [
    "def unit_select(df):\n",
    "    last_unit = int(math.ceil(len(df) / 25.0))\n",
    "    answer = raw_input(\"Which unit to learn? (1 ~ {}): \".format(str(last_unit))).strip()\n",
    "    if answer.isdigit():\n",
    "        if int(answer) in range(1, last_unit + 1):\n",
    "            return int(answer)\n",
    "    return 1"
   ]
  },
  {
   "cell_type": "code",
   "execution_count": 7,
   "metadata": {
    "collapsed": true
   },
   "outputs": [],
   "source": [
    "# learn the words by learning to spell them\n",
    "def unit_learn_spell(df, unit):\n",
    "    print(\"Let's learn unit {}!\".format(unit))\n",
    "    df = df.iloc[25*(unit-1): 25*unit]\n",
    "    while len(df) > 0:\n",
    "        for index, row in df.iterrows():\n",
    "            word, meaning, desc = map(lambda x: x.strip(), \n",
    "                                      [row.WORD, row.MEANING, row.DESC])\n",
    "            if len(word) >= 4:\n",
    "                word_hint = word[0] + '␣' * (len(word) - 2) + word[-1]\n",
    "            else:\n",
    "                word_hint = word[0] + '␣' * (len(word) - 1)\n",
    "                \n",
    "            print(color.BOLD + word_hint + color.END)\n",
    "            print(meaning)\n",
    "            word_input = raw_input().lower().strip()\n",
    "            if word_input == \":q\":\n",
    "                print(\"Exiting...\\n\")\n",
    "                break\n",
    "            if word_input == word:\n",
    "                sys.stderr.write(\"\\x1b[2J\\x1b[H\")\n",
    "                print(color.DARKCYAN + color.BOLD + word + color.END)\n",
    "                print(desc)\n",
    "                df.at[index, 'REVIEW'] = False\n",
    "            else:\n",
    "                sys.stderr.write(\"\\x1b[2J\\x1b[H\")\n",
    "                print(color.RED + color.BOLD + word + color.END)\n",
    "                print(desc)\n",
    "            raw_input(\"Press enter to continue...\")\n",
    "            sys.stderr.write(\"\\x1b[2J\\x1b[H\")\n",
    "        df = df[df.REVIEW]          "
   ]
  },
  {
   "cell_type": "code",
   "execution_count": 8,
   "metadata": {
    "collapsed": true
   },
   "outputs": [],
   "source": [
    "# learn the words by selecting meaning\n",
    "def unit_learn_meaning(df, unit):\n",
    "    print(\"Let's learn unit {}!\".format(unit))\n",
    "    df = df.iloc[25*(unit-1): 25*unit]\n",
    "    while len(df) > 0:\n",
    "        for index, row in df.iterrows():\n",
    "            word, meaning, desc = map(lambda x: x.strip(), \n",
    "                                      [row.WORD, row.MEANING, row.DESC])\n",
    "            print(word)\n",
    "            word_input = raw_input(\"Know this word? \").lower().strip()\n",
    "            if word_input.startswith(\"y\"):\n",
    "                sys.stderr.write(\"\\x1b[2J\\x1b[H\")\n",
    "                print(color.DARKCYAN + color.BOLD + word + color.END)\n",
    "                df.at[index, 'REVIEW'] = False\n",
    "            else:\n",
    "                sys.stderr.write(\"\\x1b[2J\\x1b[H\")\n",
    "                print(color.RED + color.BOLD + word + color.END)\n",
    "            print(desc)\n",
    "            raw_input(\"Press enter to continue...\")\n",
    "            sys.stderr.write(\"\\x1b[2J\\x1b[H\")\n",
    "        df = df[df.REVIEW]        "
   ]
  },
  {
   "cell_type": "code",
   "execution_count": 9,
   "metadata": {},
   "outputs": [
    {
     "name": "stdout",
     "output_type": "stream",
     "text": [
      "Select one dictionary to study\n",
      "\t1. G3000 Random\n",
      "\t2. G3000\n",
      "\t3. Barron's 333\n",
      "Dictionary number? [1]\n",
      "your choice is G3000 Random.\n",
      "Which unit to learn? (1 ~ 123): \n",
      "Let's learn unit 1!\n",
      "tantrum\n",
      "Know this word? n\n"
     ]
    },
    {
     "name": "stderr",
     "output_type": "stream",
     "text": [
      "\u001b[2J\u001b[H"
     ]
    },
    {
     "name": "stdout",
     "output_type": "stream",
     "text": [
      "\u001b[91m\u001b[1mtantrum\u001b[0m\n",
      "[MEANING 1]n.勃然大怒，发脾气: a fit of bad temper\n",
      "[EXAMPLE]had a tantrum大发脾气\n",
      "[SYNONYMS]blowup, explosion, fit\n",
      "[ANTONYM]pacification 平静\n",
      "Press enter to continue...\n"
     ]
    },
    {
     "name": "stderr",
     "output_type": "stream",
     "text": [
      "\u001b[2J\u001b[H"
     ]
    },
    {
     "name": "stdout",
     "output_type": "stream",
     "text": [
      "amenity\n",
      "Know this word? y\n"
     ]
    },
    {
     "name": "stderr",
     "output_type": "stream",
     "text": [
      "\u001b[2J\u001b[H"
     ]
    },
    {
     "name": "stdout",
     "output_type": "stream",
     "text": [
      "\u001b[36m\u001b[1mamenity\u001b[0m\n",
      "[MEANING 1]n.(环境，设备等的)舒适，人性化: something that conduces to comfort, convenience, or enjoyment\n",
      "[EXAMPLE]the amenity of the new surroundings新环境的宜人之处\n",
      "[SYNONYMS]comfort, convenience, affability\n",
      "[MEANING 2]n.融洽，和谐: the quality of being pleasant or agreeable\n",
      "[EXAMPLE]a discussion conducted in perfect amenity在和谐融洽的气氛中进行的讨论\n",
      "[SYNONYMS]agreeability, cordiality, harmony, accord, concord, consonance\n",
      "[ANTONYM]discordance, inharmony 不和谐\n",
      "Press enter to continue...\n"
     ]
    },
    {
     "name": "stderr",
     "output_type": "stream",
     "text": [
      "\u001b[2J\u001b[H"
     ]
    },
    {
     "name": "stdout",
     "output_type": "stream",
     "text": [
      "quaver\n"
     ]
    },
    {
     "ename": "KeyboardInterrupt",
     "evalue": "",
     "output_type": "error",
     "traceback": [
      "\u001b[0;31m---------------------------------------------------------------------------\u001b[0m",
      "\u001b[0;31mKeyboardInterrupt\u001b[0m                         Traceback (most recent call last)",
      "\u001b[0;32m<ipython-input-9-17c2af883644>\u001b[0m in \u001b[0;36m<module>\u001b[0;34m()\u001b[0m\n\u001b[1;32m      5\u001b[0m \u001b[0;34m\u001b[0m\u001b[0m\n\u001b[1;32m      6\u001b[0m \u001b[0;32mif\u001b[0m \u001b[0m__name__\u001b[0m \u001b[0;34m==\u001b[0m \u001b[0;34m\"__main__\"\u001b[0m\u001b[0;34m:\u001b[0m\u001b[0;34m\u001b[0m\u001b[0m\n\u001b[0;32m----> 7\u001b[0;31m     \u001b[0mmain\u001b[0m\u001b[0;34m(\u001b[0m\u001b[0;34m)\u001b[0m\u001b[0;34m\u001b[0m\u001b[0m\n\u001b[0m",
      "\u001b[0;32m<ipython-input-9-17c2af883644>\u001b[0m in \u001b[0;36mmain\u001b[0;34m()\u001b[0m\n\u001b[1;32m      2\u001b[0m     \u001b[0mdf\u001b[0m \u001b[0;34m=\u001b[0m \u001b[0mdict_read\u001b[0m\u001b[0;34m(\u001b[0m\u001b[0mdict_select\u001b[0m\u001b[0;34m(\u001b[0m\u001b[0;34m)\u001b[0m\u001b[0;34m)\u001b[0m\u001b[0;34m\u001b[0m\u001b[0m\n\u001b[1;32m      3\u001b[0m     \u001b[0munit\u001b[0m \u001b[0;34m=\u001b[0m \u001b[0munit_select\u001b[0m\u001b[0;34m(\u001b[0m\u001b[0mdf\u001b[0m\u001b[0;34m)\u001b[0m\u001b[0;34m\u001b[0m\u001b[0m\n\u001b[0;32m----> 4\u001b[0;31m     \u001b[0munit_learn_meaning\u001b[0m\u001b[0;34m(\u001b[0m\u001b[0mdf\u001b[0m\u001b[0;34m,\u001b[0m \u001b[0munit\u001b[0m\u001b[0;34m)\u001b[0m\u001b[0;34m\u001b[0m\u001b[0m\n\u001b[0m\u001b[1;32m      5\u001b[0m \u001b[0;34m\u001b[0m\u001b[0m\n\u001b[1;32m      6\u001b[0m \u001b[0;32mif\u001b[0m \u001b[0m__name__\u001b[0m \u001b[0;34m==\u001b[0m \u001b[0;34m\"__main__\"\u001b[0m\u001b[0;34m:\u001b[0m\u001b[0;34m\u001b[0m\u001b[0m\n",
      "\u001b[0;32m<ipython-input-8-1c6d0a491cf3>\u001b[0m in \u001b[0;36munit_learn_meaning\u001b[0;34m(df, unit)\u001b[0m\n\u001b[1;32m      7\u001b[0m                                       [row.WORD, row.MEANING, row.DESC])\n\u001b[1;32m      8\u001b[0m             \u001b[0;32mprint\u001b[0m\u001b[0;34m(\u001b[0m\u001b[0mword\u001b[0m\u001b[0;34m)\u001b[0m\u001b[0;34m\u001b[0m\u001b[0m\n\u001b[0;32m----> 9\u001b[0;31m             \u001b[0mword_input\u001b[0m \u001b[0;34m=\u001b[0m \u001b[0mraw_input\u001b[0m\u001b[0;34m(\u001b[0m\u001b[0;34m\"Know this word? \"\u001b[0m\u001b[0;34m)\u001b[0m\u001b[0;34m.\u001b[0m\u001b[0mlower\u001b[0m\u001b[0;34m(\u001b[0m\u001b[0;34m)\u001b[0m\u001b[0;34m.\u001b[0m\u001b[0mstrip\u001b[0m\u001b[0;34m(\u001b[0m\u001b[0;34m)\u001b[0m\u001b[0;34m\u001b[0m\u001b[0m\n\u001b[0m\u001b[1;32m     10\u001b[0m             \u001b[0;32mif\u001b[0m \u001b[0mword_input\u001b[0m\u001b[0;34m.\u001b[0m\u001b[0mstartswith\u001b[0m\u001b[0;34m(\u001b[0m\u001b[0;34m\"y\"\u001b[0m\u001b[0;34m)\u001b[0m\u001b[0;34m:\u001b[0m\u001b[0;34m\u001b[0m\u001b[0m\n\u001b[1;32m     11\u001b[0m                 \u001b[0msys\u001b[0m\u001b[0;34m.\u001b[0m\u001b[0mstderr\u001b[0m\u001b[0;34m.\u001b[0m\u001b[0mwrite\u001b[0m\u001b[0;34m(\u001b[0m\u001b[0;34m\"\\x1b[2J\\x1b[H\"\u001b[0m\u001b[0;34m)\u001b[0m\u001b[0;34m\u001b[0m\u001b[0m\n",
      "\u001b[0;32m/home/xilin/miniconda2/lib/python2.7/site-packages/ipykernel/kernelbase.pyc\u001b[0m in \u001b[0;36mraw_input\u001b[0;34m(self, prompt)\u001b[0m\n\u001b[1;32m    703\u001b[0m             \u001b[0mself\u001b[0m\u001b[0;34m.\u001b[0m\u001b[0m_parent_ident\u001b[0m\u001b[0;34m,\u001b[0m\u001b[0;34m\u001b[0m\u001b[0m\n\u001b[1;32m    704\u001b[0m             \u001b[0mself\u001b[0m\u001b[0;34m.\u001b[0m\u001b[0m_parent_header\u001b[0m\u001b[0;34m,\u001b[0m\u001b[0;34m\u001b[0m\u001b[0m\n\u001b[0;32m--> 705\u001b[0;31m             \u001b[0mpassword\u001b[0m\u001b[0;34m=\u001b[0m\u001b[0mFalse\u001b[0m\u001b[0;34m,\u001b[0m\u001b[0;34m\u001b[0m\u001b[0m\n\u001b[0m\u001b[1;32m    706\u001b[0m         )\n\u001b[1;32m    707\u001b[0m \u001b[0;34m\u001b[0m\u001b[0m\n",
      "\u001b[0;32m/home/xilin/miniconda2/lib/python2.7/site-packages/ipykernel/kernelbase.pyc\u001b[0m in \u001b[0;36m_input_request\u001b[0;34m(self, prompt, ident, parent, password)\u001b[0m\n\u001b[1;32m    733\u001b[0m             \u001b[0;32mexcept\u001b[0m \u001b[0mKeyboardInterrupt\u001b[0m\u001b[0;34m:\u001b[0m\u001b[0;34m\u001b[0m\u001b[0m\n\u001b[1;32m    734\u001b[0m                 \u001b[0;31m# re-raise KeyboardInterrupt, to truncate traceback\u001b[0m\u001b[0;34m\u001b[0m\u001b[0;34m\u001b[0m\u001b[0m\n\u001b[0;32m--> 735\u001b[0;31m                 \u001b[0;32mraise\u001b[0m \u001b[0mKeyboardInterrupt\u001b[0m\u001b[0;34m\u001b[0m\u001b[0m\n\u001b[0m\u001b[1;32m    736\u001b[0m             \u001b[0;32melse\u001b[0m\u001b[0;34m:\u001b[0m\u001b[0;34m\u001b[0m\u001b[0m\n\u001b[1;32m    737\u001b[0m                 \u001b[0;32mbreak\u001b[0m\u001b[0;34m\u001b[0m\u001b[0m\n",
      "\u001b[0;31mKeyboardInterrupt\u001b[0m: "
     ]
    }
   ],
   "source": [
    "def main():\n",
    "    df = dict_read(dict_select())\n",
    "    unit = unit_select(df)\n",
    "    unit_learn_meaning(df, unit)\n",
    "\n",
    "if __name__ == \"__main__\":\n",
    "    main()"
   ]
  },
  {
   "cell_type": "code",
   "execution_count": null,
   "metadata": {
    "collapsed": true
   },
   "outputs": [],
   "source": []
  }
 ],
 "metadata": {
  "kernelspec": {
   "display_name": "Python 2",
   "language": "python",
   "name": "python2"
  },
  "language_info": {
   "codemirror_mode": {
    "name": "ipython",
    "version": 2
   },
   "file_extension": ".py",
   "mimetype": "text/x-python",
   "name": "python",
   "nbconvert_exporter": "python",
   "pygments_lexer": "ipython2",
   "version": "2.7.13"
  }
 },
 "nbformat": 4,
 "nbformat_minor": 2
}
