{
 "cells": [
  {
   "cell_type": "code",
   "execution_count": 36,
   "metadata": {
    "collapsed": true
   },
   "outputs": [],
   "source": [
    "import pandas as pd\n",
    "import sys\n",
    "# in case there are special characters in names\n",
    "reload(sys)\n",
    "sys.setdefaultencoding(\"utf-8\")"
   ]
  },
  {
   "cell_type": "code",
   "execution_count": 2,
   "metadata": {
    "collapsed": true
   },
   "outputs": [],
   "source": [
    "# if len(sys.argv) > 1:\n",
    "#     word_dict = sys.argv[1]\n",
    "# else:\n",
    "#     word_dict = \"barrons_333\""
   ]
  },
  {
   "cell_type": "code",
   "execution_count": 3,
   "metadata": {
    "collapsed": true
   },
   "outputs": [],
   "source": [
    "def read_word_dict(word_dict):\n",
    "    df_dict = pd.read_csv(\"../dict/\" + word_dict + \".csv\")\n",
    "    return df_dict"
   ]
  },
  {
   "cell_type": "code",
   "execution_count": 12,
   "metadata": {
    "collapsed": true
   },
   "outputs": [],
   "source": [
    "df_barron = read_word_dict(\"barrons_333\")\n",
    "df_barron.WORD = df_barron.WORD.str.lower()"
   ]
  },
  {
   "cell_type": "code",
   "execution_count": 14,
   "metadata": {
    "collapsed": true
   },
   "outputs": [],
   "source": [
    "row = df_barron.iloc[0]"
   ]
  },
  {
   "cell_type": "code",
   "execution_count": 151,
   "metadata": {},
   "outputs": [],
   "source": [
    "def vocatest(df):\n",
    "    for index, row in df.iterrows():\n",
    "        meaning = str(row.MEANING)\n",
    "        word_input = raw_input(meaning + \"\\n: \").lower().strip()\n",
    "        if word_input == \":q\":\n",
    "            print(\"Exiting...\\n\")\n",
    "            break\n",
    "        if word_input == row.WORD:\n",
    "            print(\"Correct!\\n\")\n",
    "        else:\n",
    "            print(\"Incorrect!\\n\")\n",
    "            print(\"Answer: \" + row.WORD + \"\\n\")"
   ]
  },
  {
   "cell_type": "code",
   "execution_count": 145,
   "metadata": {
    "collapsed": true
   },
   "outputs": [],
   "source": [
    "# df_g3000 = pd.read_json('../dict/g3000.json')\n",
    "# df_g3000.rename(columns = {'word': 'WORD'}, \n",
    "#                 inplace=True)\n",
    "# df_g3000['MEANING'] = df_g3000.desc.apply(lambda desc: '\\n'.join([x for x in desc.split('\\n') if x.upper().startswith('[MEANING')]))\n",
    "# df_g3000[['WORD', 'MEANING']].to_csv('../dict/g3000.csv', index=0)"
   ]
  },
  {
   "cell_type": "code",
   "execution_count": 146,
   "metadata": {},
   "outputs": [],
   "source": [
    "df_g3000 = read_word_dict('g3000')"
   ]
  },
  {
   "cell_type": "code",
   "execution_count": 96,
   "metadata": {},
   "outputs": [],
   "source": [
    "row = df_g3000.iloc[0]"
   ]
  },
  {
   "cell_type": "code",
   "execution_count": null,
   "metadata": {
    "collapsed": true
   },
   "outputs": [],
   "source": []
  }
 ],
 "metadata": {
  "kernelspec": {
   "display_name": "root",
   "language": "python",
   "name": "root"
  },
  "language_info": {
   "codemirror_mode": {
    "name": "ipython",
    "version": 2
   },
   "file_extension": ".py",
   "mimetype": "text/x-python",
   "name": "python",
   "nbconvert_exporter": "python",
   "pygments_lexer": "ipython2",
   "version": "2.7.13"
  }
 },
 "nbformat": 4,
 "nbformat_minor": 2
}
