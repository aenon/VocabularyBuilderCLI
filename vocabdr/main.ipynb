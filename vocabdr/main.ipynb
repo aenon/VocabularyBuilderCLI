{
 "cells": [
  {
   "cell_type": "code",
   "execution_count": 10,
   "metadata": {
    "collapsed": true
   },
   "outputs": [],
   "source": [
    "import pandas as pd\n",
    "# import urwid\n",
    "\n",
    "# import sys\n",
    "# #in case there are special characters in names\n",
    "# reload(sys)\n",
    "# sys.setdefaultencoding(\"utf-8\")"
   ]
  },
  {
   "cell_type": "code",
   "execution_count": 11,
   "metadata": {
    "collapsed": true
   },
   "outputs": [],
   "source": [
    "# if len(sys.argv) > 1:\n",
    "#     word_dict = sys.argv[1]\n",
    "# else:\n",
    "#     word_dict = \"barrons_333\""
   ]
  },
  {
   "cell_type": "code",
   "execution_count": 12,
   "metadata": {
    "collapsed": true
   },
   "outputs": [],
   "source": [
    "def read_word_dict(word_dict):\n",
    "    df_dict = pd.read_csv(\"../dict/\" + word_dict + \".csv\")\n",
    "    return df_dict"
   ]
  },
  {
   "cell_type": "code",
   "execution_count": 18,
   "metadata": {
    "collapsed": true
   },
   "outputs": [],
   "source": [
    "class color:\n",
    "    PURPLE = '\\033[95m'\n",
    "    CYAN = '\\033[96m's\n",
    "    DARKCYAN = '\\033[36m'\n",
    "    BLUE = '\\033[94m'\n",
    "    GREEN = '\\033[92m'\n",
    "    YELLOW = '\\033[93m'\n",
    "    RED = '\\033[91m'\n",
    "    BOLD = '\\033[1m'\n",
    "    UNDERLINE = '\\033[4m'\n",
    "    END = '\\033[0m'"
   ]
  },
  {
   "cell_type": "code",
   "execution_count": 13,
   "metadata": {
    "collapsed": true
   },
   "outputs": [],
   "source": [
    "def vocatest(df):\n",
    "    for index, row in df.iterrows():\n",
    "        meaning = str(row.MEANING)\n",
    "        word_input = raw_input(meaning + \"\\n: \").lower().strip()\n",
    "        if word_input == \":q\":\n",
    "            print(\"Exiting...\\n\")\n",
    "            break\n",
    "        if word_input == row.WORD:\n",
    "            print(\"Correct!\\n\")\n",
    "        else:\n",
    "            print(\"Incorrect!\\n\")\n",
    "            print(\"Answer: \" + row.WORD + \"\\n\")"
   ]
  },
  {
   "cell_type": "code",
   "execution_count": 14,
   "metadata": {
    "collapsed": true
   },
   "outputs": [],
   "source": [
    "def vocalearn(df):\n",
    "    for index, row in df.iterrows():\n",
    "        meaning = str(row.MEANING)\n",
    "        # print(chr(27) + \"[2J\")\n",
    "        print(meaning)\n",
    "        if raw_input() == \":q\":\n",
    "            print(\"Exiting...\\n\")\n",
    "            break\n",
    "        print(row.WORD + \"\\n\")"
   ]
  },
  {
   "cell_type": "code",
   "execution_count": 15,
   "metadata": {
    "collapsed": true
   },
   "outputs": [],
   "source": [
    "def unitselect(df, unit=0):\n",
    "    return df.iloc[10*unit:10*(unit+1)]"
   ]
  },
  {
   "cell_type": "code",
   "execution_count": 16,
   "metadata": {},
   "outputs": [],
   "source": [
    "df_g3000 = read_word_dict('g3000')"
   ]
  },
  {
   "cell_type": "code",
   "execution_count": 26,
   "metadata": {},
   "outputs": [],
   "source": [
    "row = df_g3000.iloc[45]"
   ]
  },
  {
   "cell_type": "code",
   "execution_count": 28,
   "metadata": {},
   "outputs": [],
   "source": [
    "word, meaning = map(lambda x: x.strip(), [row.WORD, row.MEANING])"
   ]
  },
  {
   "cell_type": "code",
   "execution_count": 25,
   "metadata": {},
   "outputs": [
    {
     "name": "stdout",
     "output_type": "stream",
     "text": [
      "[MEANING 1]adj.辛辣的，剌鼻的: sharp and harsh or unpleasantly pungent in taste or odor : irritating\n",
      "[MEANING 2]adj.刻薄的: marked by the use of wit that is intended to cause hurt feelings\n"
     ]
    }
   ],
   "source": [
    "print(row.MEANING)"
   ]
  },
  {
   "cell_type": "code",
   "execution_count": 29,
   "metadata": {
    "collapsed": true
   },
   "outputs": [],
   "source": [
    "word_length = len(word)"
   ]
  },
  {
   "cell_type": "code",
   "execution_count": 32,
   "metadata": {},
   "outputs": [
    {
     "name": "stdout",
     "output_type": "stream",
     "text": [
      "\u001b[91m\u001b[1ma___d\u001b[0m\n"
     ]
    }
   ],
   "source": [
    "if word_length >= 4:\n",
    "    print(color.RED + color.BOLD + word[0] + '_' * (word_length - 2) + word[-1]+ color.END)"
   ]
  },
  {
   "cell_type": "code",
   "execution_count": null,
   "metadata": {
    "collapsed": true
   },
   "outputs": [],
   "source": []
  },
  {
   "cell_type": "code",
   "execution_count": null,
   "metadata": {
    "collapsed": true
   },
   "outputs": [],
   "source": []
  },
  {
   "cell_type": "code",
   "execution_count": null,
   "metadata": {
    "collapsed": true
   },
   "outputs": [],
   "source": []
  },
  {
   "cell_type": "code",
   "execution_count": 20,
   "metadata": {},
   "outputs": [
    {
     "name": "stdout",
     "output_type": "stream",
     "text": [
      "\u001b[94mHello World !\u001b[0m\n"
     ]
    }
   ],
   "source": []
  },
  {
   "cell_type": "code",
   "execution_count": null,
   "metadata": {
    "collapsed": true
   },
   "outputs": [],
   "source": []
  },
  {
   "cell_type": "code",
   "execution_count": 7,
   "metadata": {
    "collapsed": true
   },
   "outputs": [],
   "source": [
    "df_barron = read_word_dict(\"barrons_333\")"
   ]
  },
  {
   "cell_type": "code",
   "execution_count": 7,
   "metadata": {},
   "outputs": [],
   "source": [
    "# vocalearn(df_barron)a"
   ]
  },
  {
   "cell_type": "code",
   "execution_count": 8,
   "metadata": {},
   "outputs": [],
   "source": [
    "# unitselect(df_barron, 1)"
   ]
  },
  {
   "cell_type": "code",
   "execution_count": 9,
   "metadata": {
    "collapsed": true
   },
   "outputs": [],
   "source": [
    "# vocalearn(df_g3000)"
   ]
  },
  {
   "cell_type": "code",
   "execution_count": 4,
   "metadata": {},
   "outputs": [],
   "source": [
    "# import urwid\n",
    "# txt = urwid.Text(u\"Hello World\")\n",
    "# fill = urwid.Filler(txt, 'top')\n",
    "# loop = urwid.MainLoop(fill)\n",
    "# loop.run()"
   ]
  },
  {
   "cell_type": "code",
   "execution_count": 6,
   "metadata": {},
   "outputs": [],
   "source": [
    "# import urwid\n",
    "\n",
    "# def show_or_exit(key):\n",
    "#     if key in ('q', 'Q'):\n",
    "#         raise urwid.ExitMainLoop()\n",
    "#     txt.set_text(repr(key))\n",
    "\n",
    "# txt = urwid.Text(u\"Hello World\")\n",
    "# fill = urwid.Filler(txt, 'top')\n",
    "# loop = urwid.MainLoop(fill, unhandled_input=show_or_exit)\n",
    "# loop.run()"
   ]
  },
  {
   "cell_type": "code",
   "execution_count": null,
   "metadata": {
    "collapsed": true
   },
   "outputs": [],
   "source": [
    "\n",
    "def exit_on_q(key):\n",
    "    if key in ('q', 'Q'):\n",
    "        raise urwid.ExitMainLoop()\n",
    "\n",
    "class QuestionBox(urwid.Filler):\n",
    "    def keypress(self, size, key):\n",
    "        if key != 'enter':\n",
    "            return super(QuestionBox, self).keypress(size, key)\n",
    "        self.original_widget = urwid.Text(\n",
    "            u\"Nice to meet you,\\n%s.\\n\\nPress Q to exit.\" %\n",
    "            edit.edit_text)\n",
    "\n",
    "edit = urwid.Edit(u\"What is your name?\\n\")\n",
    "fill = QuestionBox(edit)\n",
    "loop = urwid.MainLoop(fill, unhandled_input=exit_on_q)\n",
    "loop.run()"
   ]
  },
  {
   "cell_type": "code",
   "execution_count": null,
   "metadata": {
    "collapsed": true
   },
   "outputs": [],
   "source": []
  }
 ],
 "metadata": {
  "kernelspec": {
   "display_name": "Python 2",
   "language": "python",
   "name": "python2"
  },
  "language_info": {
   "codemirror_mode": {
    "name": "ipython",
    "version": 2
   },
   "file_extension": ".py",
   "mimetype": "text/x-python",
   "name": "python",
   "nbconvert_exporter": "python",
   "pygments_lexer": "ipython2",
   "version": "2.7.13"
  }
 },
 "nbformat": 4,
 "nbformat_minor": 2
}
