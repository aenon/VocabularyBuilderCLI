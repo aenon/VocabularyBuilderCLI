{
 "cells": [
  {
   "cell_type": "code",
   "execution_count": 36,
   "metadata": {
    "collapsed": true
   },
   "outputs": [],
   "source": [
    "import pandas as pd\n",
    "import sys\n",
    "# in case there are special characters in names\n",
    "reload(sys)\n",
    "sys.setdefaultencoding(\"utf-8\")"
   ]
  },
  {
   "cell_type": "code",
   "execution_count": 2,
   "metadata": {
    "collapsed": true
   },
   "outputs": [],
   "source": [
    "# if len(sys.argv) > 1:\n",
    "#     word_dict = sys.argv[1]\n",
    "# else:\n",
    "#     word_dict = \"barrons_333\""
   ]
  },
  {
   "cell_type": "code",
   "execution_count": 3,
   "metadata": {
    "collapsed": true
   },
   "outputs": [],
   "source": [
    "def read_word_dict(word_dict):\n",
    "    df_dict = pd.read_csv(\"../dict/\" + word_dict + \".csv\")\n",
    "    return df_dict"
   ]
  },
  {
   "cell_type": "code",
   "execution_count": 151,
   "metadata": {},
   "outputs": [],
   "source": [
    "def vocatest(df):\n",
    "    for index, row in df.iterrows():\n",
    "        meaning = str(row.MEANING)\n",
    "        word_input = raw_input(meaning + \"\\n: \").lower().strip()\n",
    "        if word_input == \":q\":\n",
    "            print(\"Exiting...\\n\")\n",
    "            break\n",
    "        if word_input == row.WORD:\n",
    "            print(\"Correct!\\n\")\n",
    "        else:\n",
    "            print(\"Incorrect!\\n\")\n",
    "            print(\"Answer: \" + row.WORD + \"\\n\")"
   ]
  },
  {
   "cell_type": "code",
   "execution_count": 176,
   "metadata": {},
   "outputs": [],
   "source": [
    "def vocalearn(df):\n",
    "    for index, row in df.iterrows():\n",
    "        meaning = str(row.MEANING)\n",
    "        # print(chr(27) + \"[2J\")\n",
    "        print(meaning)\n",
    "        if raw_input() == \":q\":\n",
    "            print(\"Exiting...\\n\")\n",
    "            break\n",
    "        print(row.WORD + \"\\n\")"
   ]
  },
  {
   "cell_type": "code",
   "execution_count": 177,
   "metadata": {},
   "outputs": [
    {
     "name": "stdout",
     "output_type": "stream",
     "text": [
      ":q\n"
     ]
    }
   ],
   "source": [
    "vocalearn(df_barron)"
   ]
  },
  {
   "cell_type": "code",
   "execution_count": null,
   "metadata": {
    "collapsed": true
   },
   "outputs": [],
   "source": []
  },
  {
   "cell_type": "code",
   "execution_count": 169,
   "metadata": {
    "collapsed": true
   },
   "outputs": [],
   "source": [
    "def unitselect(df, unit=0):\n",
    "    return df.iloc[10*unit:10*(unit+1)]"
   ]
  },
  {
   "cell_type": "code",
   "execution_count": 162,
   "metadata": {
    "collapsed": true
   },
   "outputs": [],
   "source": [
    "df_barron = read_word_dict(\"barrons_333\")"
   ]
  },
  {
   "cell_type": "code",
   "execution_count": 172,
   "metadata": {},
   "outputs": [
    {
     "data": {
      "text/html": [
       "<div>\n",
       "<style>\n",
       "    .dataframe thead tr:only-child th {\n",
       "        text-align: right;\n",
       "    }\n",
       "\n",
       "    .dataframe thead th {\n",
       "        text-align: left;\n",
       "    }\n",
       "\n",
       "    .dataframe tbody tr th {\n",
       "        vertical-align: top;\n",
       "    }\n",
       "</style>\n",
       "<table border=\"1\" class=\"dataframe\">\n",
       "  <thead>\n",
       "    <tr style=\"text-align: right;\">\n",
       "      <th></th>\n",
       "      <th>WORD</th>\n",
       "      <th>MEANING</th>\n",
       "    </tr>\n",
       "  </thead>\n",
       "  <tbody>\n",
       "    <tr>\n",
       "      <th>10</th>\n",
       "      <td>alleviate</td>\n",
       "      <td>relieve</td>\n",
       "    </tr>\n",
       "    <tr>\n",
       "      <th>11</th>\n",
       "      <td>amalgamate</td>\n",
       "      <td>combine; unite in one body</td>\n",
       "    </tr>\n",
       "    <tr>\n",
       "      <th>12</th>\n",
       "      <td>ambiguous</td>\n",
       "      <td>unclear or doubtful in meaning</td>\n",
       "    </tr>\n",
       "    <tr>\n",
       "      <th>13</th>\n",
       "      <td>ambivalence</td>\n",
       "      <td>the state of having contradictory or conflicti...</td>\n",
       "    </tr>\n",
       "    <tr>\n",
       "      <th>14</th>\n",
       "      <td>ameliorate</td>\n",
       "      <td>improve</td>\n",
       "    </tr>\n",
       "    <tr>\n",
       "      <th>15</th>\n",
       "      <td>anachronism</td>\n",
       "      <td>something or someone misplaced in time</td>\n",
       "    </tr>\n",
       "    <tr>\n",
       "      <th>16</th>\n",
       "      <td>analogous</td>\n",
       "      <td>comparable</td>\n",
       "    </tr>\n",
       "    <tr>\n",
       "      <th>17</th>\n",
       "      <td>anarchy</td>\n",
       "      <td>absence of governing body; state of disorder</td>\n",
       "    </tr>\n",
       "    <tr>\n",
       "      <th>18</th>\n",
       "      <td>anomalous</td>\n",
       "      <td>abnormal; irregular</td>\n",
       "    </tr>\n",
       "    <tr>\n",
       "      <th>19</th>\n",
       "      <td>antipathy</td>\n",
       "      <td>aversion; dislike</td>\n",
       "    </tr>\n",
       "  </tbody>\n",
       "</table>\n",
       "</div>"
      ],
      "text/plain": [
       "           WORD                                            MEANING\n",
       "10    alleviate                                            relieve\n",
       "11   amalgamate                         combine; unite in one body\n",
       "12    ambiguous                     unclear or doubtful in meaning\n",
       "13  ambivalence  the state of having contradictory or conflicti...\n",
       "14   ameliorate                                            improve\n",
       "15  anachronism             something or someone misplaced in time\n",
       "16    analogous                                         comparable\n",
       "17      anarchy       absence of governing body; state of disorder\n",
       "18    anomalous                                abnormal; irregular\n",
       "19    antipathy                                  aversion; dislike"
      ]
     },
     "execution_count": 172,
     "metadata": {},
     "output_type": "execute_result"
    }
   ],
   "source": [
    "unitselect(df_barron, 1)"
   ]
  },
  {
   "cell_type": "code",
   "execution_count": null,
   "metadata": {
    "collapsed": true
   },
   "outputs": [],
   "source": []
  },
  {
   "cell_type": "code",
   "execution_count": 14,
   "metadata": {
    "collapsed": true
   },
   "outputs": [],
   "source": [
    "# row = df_barron.iloc[0]"
   ]
  },
  {
   "cell_type": "code",
   "execution_count": 145,
   "metadata": {
    "collapsed": true
   },
   "outputs": [],
   "source": [
    "# df_g3000 = pd.read_json('../dict/g3000.json')\n",
    "# df_g3000.rename(columns = {'word': 'WORD'}, \n",
    "#                 inplace=True)\n",
    "# df_g3000['MEANING'] = df_g3000.desc.apply(lambda desc: '\\n'.join([x for x in desc.split('\\n') if x.upper().startswith('[MEANING')]))\n",
    "# df_g3000[['WORD', 'MEANING']].to_csv('../dict/g3000.csv', index=0)"
   ]
  },
  {
   "cell_type": "code",
   "execution_count": 146,
   "metadata": {},
   "outputs": [],
   "source": [
    "df_g3000 = read_word_dict('g3000')"
   ]
  },
  {
   "cell_type": "code",
   "execution_count": 96,
   "metadata": {},
   "outputs": [],
   "source": [
    "row = df_g3000.iloc[0]"
   ]
  },
  {
   "cell_type": "code",
   "execution_count": null,
   "metadata": {
    "collapsed": true
   },
   "outputs": [],
   "source": []
  }
 ],
 "metadata": {
  "kernelspec": {
   "display_name": "root",
   "language": "python",
   "name": "root"
  },
  "language_info": {
   "codemirror_mode": {
    "name": "ipython",
    "version": 2
   },
   "file_extension": ".py",
   "mimetype": "text/x-python",
   "name": "python",
   "nbconvert_exporter": "python",
   "pygments_lexer": "ipython2",
   "version": "2.7.13"
  }
 },
 "nbformat": 4,
 "nbformat_minor": 2
}
