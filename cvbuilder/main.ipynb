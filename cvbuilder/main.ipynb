{
 "cells": [
  {
   "cell_type": "code",
   "execution_count": 26,
   "metadata": {
    "collapsed": true
   },
   "outputs": [],
   "source": [
    "import pandas as pd\n",
    "import sys"
   ]
  },
  {
   "cell_type": "code",
   "execution_count": 27,
   "metadata": {},
   "outputs": [],
   "source": [
    "# if len(sys.argv) > 1:\n",
    "#     word_dict = sys.argv[1]\n",
    "# else:\n",
    "#     word_dict = \"barrons_333\""
   ]
  },
  {
   "cell_type": "code",
   "execution_count": 28,
   "metadata": {},
   "outputs": [],
   "source": [
    "def read_word_dict(word_dict):\n",
    "    df_dict = pd.read_csv(\"../dict/\" + word_dict + \".csv\")\n",
    "    return df_dict"
   ]
  },
  {
   "cell_type": "code",
   "execution_count": 29,
   "metadata": {},
   "outputs": [],
   "source": [
    "df_barron = read_word_dict(\"barrons_333\")"
   ]
  },
  {
   "cell_type": "code",
   "execution_count": 33,
   "metadata": {},
   "outputs": [
    {
     "name": "stdout",
     "output_type": "stream",
     "text": [
      "Abate\n",
      "Press Enter to continue...\n",
      "subside , or moderate\n",
      "Press Enter to continue...\n",
      "\u001b[H\u001b[J\n",
      "Aberrant\n",
      "Press Enter to continue...\n",
      "abnormal, or deviant\n",
      "Press Enter to continue...\n",
      "\u001b[H\u001b[J\n",
      "Abeyance\n",
      "Press Enter to continue...q\n",
      "suspended action\n",
      "Press Enter to continue...q\n"
     ]
    }
   ],
   "source": [
    "for index, row in df_barron.iterrows():\n",
    "    print(row.WORD)\n",
    "    print(\"\")\n",
    "    user_input = raw_input()\n",
    "    if user_input == \"q\":\n",
    "        break\n",
    "    print(row.MEANING)\n",
    "    user_input = raw_input()\n",
    "    if user_input == \"q\":\n",
    "        break\n",
    "    print(\"\\033[H\\033[J\")"
   ]
  }
 ],
 "metadata": {
  "kernelspec": {
   "display_name": "root",
   "language": "python",
   "name": "root"
  },
  "language_info": {
   "codemirror_mode": {
    "name": "ipython",
    "version": 2
   },
   "file_extension": ".py",
   "mimetype": "text/x-python",
   "name": "python",
   "nbconvert_exporter": "python",
   "pygments_lexer": "ipython2",
   "version": "2.7.13"
  }
 },
 "nbformat": 4,
 "nbformat_minor": 2
}
